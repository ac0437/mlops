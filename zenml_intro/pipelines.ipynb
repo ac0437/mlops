{
 "cells": [
  {
   "cell_type": "code",
   "execution_count": null,
   "metadata": {},
   "outputs": [],
   "source": [
    "# % pip install \"zenml[server]\"\n",
    "# !zenml integration install sklearn -y\n",
    "# %pip install pyparsing==2.4.2\n",
    "\n",
    "# import IPython\n",
    "# IPython.Application.instance().kernel.do_shutdown(restart=True)"
   ]
  },
  {
   "cell_type": "code",
   "execution_count": 1,
   "metadata": {},
   "outputs": [
    {
     "name": "stdout",
     "output_type": "stream",
     "text": [
      "Test accuray: 0.9583333333333334\n"
     ]
    }
   ],
   "source": [
    "import numpy as np\n",
    "from sklearn.base import ClassifierMixin\n",
    "from sklearn.svm import SVC \n",
    "from sklearn.datasets import load_digits\n",
    "from sklearn.model_selection import train_test_split\n",
    "\n",
    "def train_test() -> None:\n",
    "  digits = load_digits()\n",
    "  data = digits.images.reshape((len(digits.images), -1))\n",
    "  X_train, X_test, y_train, y_test = train_test_split(\n",
    "    data, digits.target, test_size=0.2, shuffle=False\n",
    "  )\n",
    "  model = SVC(gamma=0.001)\n",
    "  model.fit(X_train, y_train)\n",
    "  test_acc = model.score(X_test, y_test)\n",
    "  print(f\"Test accuray: {test_acc}\")\n",
    "\n",
    "train_test()"
   ]
  },
  {
   "cell_type": "code",
   "execution_count": 11,
   "metadata": {},
   "outputs": [],
   "source": [
    "from zenml import step\n",
    "from typing_extensions import Annotated\n",
    "import pandas as pd \n",
    "from typing import Tuple\n",
    "\n",
    "@step\n",
    "def importer() -> Tuple[ \n",
    "  Annotated[np.ndarray, \"X_train\"], \n",
    "  Annotated[np.ndarray, \"X_test\"], \n",
    "  Annotated[np.ndarray, \"y_train\"], \n",
    "  Annotated[np.ndarray, \"y_test\"]\n",
    "]:\n",
    "  digits = load_digits()\n",
    "  data = digits.images.reshape((len(digits.images), -1))\n",
    "  X_train, X_test, y_train, y_test = train_test_split(\n",
    "    data, digits.target, test_size=0.2, shuffle=False\n",
    "  )\n",
    "  return X_train, X_test, y_train, y_test\n",
    "\n",
    "@step\n",
    "def svc_trainer(X_train: np.ndarray, y_train: np.ndarray) -> ClassifierMixin:\n",
    "  model = SVC(gamma=0.001)\n",
    "  model.fit(X_train, y_train)\n",
    "  return model\n",
    "\n",
    "@step\n",
    "def evaluator(X_test: np.ndarray, y_test: np.ndarray, model: ClassifierMixin) -> float:\n",
    "  test_acc = model.score(X_test, y_test)\n",
    "  print(f\"Test accuracy: {test_acc}\")\n",
    "  return test_acc"
   ]
  },
  {
   "cell_type": "code",
   "execution_count": 12,
   "metadata": {},
   "outputs": [],
   "source": [
    "from zenml import pipeline\n",
    "\n",
    "@pipeline\n",
    "def digits_pipeline():\n",
    "  X_train, X_test, y_train, y_test = importer()\n",
    "  model = svc_trainer(X_train=X_train, y_train=y_train)\n",
    "  evaluator(X_test=X_test, y_test=y_test, model=model)"
   ]
  },
  {
   "cell_type": "code",
   "execution_count": 13,
   "metadata": {},
   "outputs": [
    {
     "name": "stdout",
     "output_type": "stream",
     "text": [
      "\u001b[1;35mInitiating a new run for the pipeline: \u001b[0m\u001b[1;36mdigits_pipeline\u001b[1;35m.\u001b[0m\n",
      "\u001b[1;35mRegistered new version: \u001b[0m\u001b[1;36m(version 2)\u001b[1;35m.\u001b[0m\n",
      "\u001b[1;35mExecuting a new run.\u001b[0m\n",
      "\u001b[1;35mUsing user: \u001b[0m\u001b[1;36mdefault\u001b[1;35m\u001b[0m\n",
      "\u001b[1;35mUsing stack: \u001b[0m\u001b[1;36mdefault\u001b[1;35m\u001b[0m\n",
      "\u001b[1;35m  artifact_store: \u001b[0m\u001b[1;36mdefault\u001b[1;35m\u001b[0m\n",
      "\u001b[1;35m  orchestrator: \u001b[0m\u001b[1;36mdefault\u001b[1;35m\u001b[0m\n",
      "\u001b[1;35mStep \u001b[0m\u001b[1;36mimporter\u001b[1;35m has started.\u001b[0m\n",
      "\u001b[1;35mSkipping visualization of numpy array because matplotlib is not installed. To install matplotlib, run \u001b[0m\u001b[1;36mpip install matplotlib\u001b[1;35m.\u001b[0m\n",
      "\u001b[1;35mSkipping visualization of numpy array because matplotlib is not installed. To install matplotlib, run \u001b[0m\u001b[1;36mpip install matplotlib\u001b[1;35m.\u001b[0m\n",
      "\u001b[1;35mStep \u001b[0m\u001b[1;36mimporter\u001b[1;35m has finished in \u001b[0m\u001b[1;36m4.404s\u001b[1;35m.\u001b[0m\n",
      "\u001b[1;35mStep \u001b[0m\u001b[1;36msvc_trainer\u001b[1;35m has started.\u001b[0m\n",
      "\u001b[1;35mStep \u001b[0m\u001b[1;36msvc_trainer\u001b[1;35m has finished in \u001b[0m\u001b[1;36m1.015s\u001b[1;35m.\u001b[0m\n",
      "\u001b[1;35mStep \u001b[0m\u001b[1;36mevaluator\u001b[1;35m has started.\u001b[0m\n",
      "Test accuracy: 0.9583333333333334\n",
      "\u001b[1;35mStep \u001b[0m\u001b[1;36mevaluator\u001b[1;35m has finished in \u001b[0m\u001b[1;36m1.153s\u001b[1;35m.\u001b[0m\n",
      "\u001b[1;35mRun \u001b[0m\u001b[1;36mdigits_pipeline-2023_12_09-18_48_30_122487\u001b[1;35m has finished in \u001b[0m\u001b[1;36m6.954s\u001b[1;35m.\u001b[0m\n",
      "\u001b[1;35mYou can visualize your pipeline runs in the \u001b[0m\u001b[1;36mZenML Dashboard\u001b[1;35m. In order to try it locally, please run \u001b[0m\u001b[1;36mzenml up\u001b[1;35m.\u001b[0m\n"
     ]
    }
   ],
   "source": [
    "digits_svc_pipeline = digits_pipeline()"
   ]
  }
 ],
 "metadata": {
  "kernelspec": {
   "display_name": "virt",
   "language": "python",
   "name": "python3"
  },
  "language_info": {
   "codemirror_mode": {
    "name": "ipython",
    "version": 3
   },
   "file_extension": ".py",
   "mimetype": "text/x-python",
   "name": "python",
   "nbconvert_exporter": "python",
   "pygments_lexer": "ipython3",
   "version": "3.9.1"
  }
 },
 "nbformat": 4,
 "nbformat_minor": 2
}
